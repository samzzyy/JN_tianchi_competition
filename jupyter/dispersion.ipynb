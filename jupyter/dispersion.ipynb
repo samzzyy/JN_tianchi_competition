{
 "cells": [
  {
   "cell_type": "code",
   "execution_count": 27,
   "metadata": {},
   "outputs": [],
   "source": [
    "import pandas as pd"
   ]
  },
  {
   "cell_type": "code",
   "execution_count": 28,
   "metadata": {},
   "outputs": [
    {
     "name": "stderr",
     "output_type": "stream",
     "text": [
      "D:\\Anaconda3\\lib\\site-packages\\ipykernel_launcher.py:5: FutureWarning: Sorting because non-concatenation axis is not aligned. A future version\n",
      "of pandas will change to not sort by default.\n",
      "\n",
      "To accept the future behavior, pass 'sort=True'.\n",
      "\n",
      "To retain the current behavior and silence the warning, pass sort=False\n",
      "\n",
      "  \"\"\"\n"
     ]
    }
   ],
   "source": [
    "df_train=pd.read_csv(\"E:\\\\jinnan\\\\train_after_clean.csv\")\n",
    "df_test=pd.read_csv(\"E:\\\\jinnan\\\\test_after_clean.csv\")\n",
    "target=df_train['yield_rate']\n",
    "df_train.drop(columns=['yield_rate'],axis=1,inplace=True)\n",
    "df_data=pd.concat([df_train,df_test],axis=0)\n",
    "sample_id=df_data['id']\n",
    "df_data[\"id\"]=df_train['id'].apply(lambda x: int(x[7:]))"
   ]
  },
  {
   "cell_type": "code",
   "execution_count": 29,
   "metadata": {},
   "outputs": [],
   "source": [
    "mean_array=df_data.mean(axis=0)\n",
    "\n",
    "dispersion_mean_list=[]\n",
    "for col in df_data.columns:\n",
    "    dispersion_mean_list.append(col+\"_dispersion\")\n",
    "df_data[dispersion_mean_list]=df_data-mean_array"
   ]
  },
  {
   "cell_type": "code",
   "execution_count": 30,
   "metadata": {},
   "outputs": [
    {
     "data": {
      "text/plain": [
       "0    1528\n",
       "1    1698\n",
       "2     639\n",
       "3     483\n",
       "4     617\n",
       "5     373\n",
       "6     577\n",
       "7     212\n",
       "8     521\n",
       "9    1026\n",
       "Name: id, dtype: int64"
      ]
     },
     "execution_count": 30,
     "metadata": {},
     "output_type": "execute_result"
    }
   ],
   "source": [
    "df_data['id'].head(10)"
   ]
  },
  {
   "cell_type": "code",
   "execution_count": 31,
   "metadata": {},
   "outputs": [
    {
     "name": "stdout",
     "output_type": "stream",
     "text": [
      "(1396, 49) (150, 49)\n",
      "(1396, 99) (150, 98)\n"
     ]
    },
    {
     "name": "stderr",
     "output_type": "stream",
     "text": [
      "D:\\Anaconda3\\lib\\site-packages\\ipykernel_launcher.py:4: SettingWithCopyWarning: \n",
      "A value is trying to be set on a copy of a slice from a DataFrame.\n",
      "Try using .loc[row_indexer,col_indexer] = value instead\n",
      "\n",
      "See the caveats in the documentation: http://pandas.pydata.org/pandas-docs/stable/indexing.html#indexing-view-versus-copy\n",
      "  after removing the cwd from sys.path.\n"
     ]
    }
   ],
   "source": [
    "df_data['id']=sample_id\n",
    "print(df_train.shape,df_test.shape)\n",
    "df_train=df_data[:df_train.shape[0]]\n",
    "df_train['yield_rate']=target\n",
    "df_test=df_data[df_train.shape[0]:]\n",
    "print(df_train.shape,df_test.shape)"
   ]
  },
  {
   "cell_type": "code",
   "execution_count": 32,
   "metadata": {},
   "outputs": [],
   "source": [
    "df_train.to_csv(\"E:\\\\jinnan\\\\train_dispersion.csv\",index=False)\n",
    "df_test.to_csv(\"E:\\\\jinnan\\\\test_dispersion.csv\",index=False)"
   ]
  },
  {
   "cell_type": "code",
   "execution_count": null,
   "metadata": {},
   "outputs": [],
   "source": []
  }
 ],
 "metadata": {
  "kernelspec": {
   "display_name": "Python 3",
   "language": "python",
   "name": "python3"
  },
  "language_info": {
   "codemirror_mode": {
    "name": "ipython",
    "version": 3
   },
   "file_extension": ".py",
   "mimetype": "text/x-python",
   "name": "python",
   "nbconvert_exporter": "python",
   "pygments_lexer": "ipython3",
   "version": "3.6.5"
  }
 },
 "nbformat": 4,
 "nbformat_minor": 2
}
