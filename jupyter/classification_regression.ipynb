{
 "cells": [
  {
   "cell_type": "code",
   "execution_count": 13,
   "metadata": {},
   "outputs": [],
   "source": [
    "import pandas as pd\n",
    "import numpy as np\n",
    "from sklearn.model_selection import KFold, RepeatedKFold\n",
    "import xgboost as xgb\n",
    "from sklearn.metrics import mean_squared_error"
   ]
  },
  {
   "cell_type": "code",
   "execution_count": 106,
   "metadata": {},
   "outputs": [
    {
     "name": "stdout",
     "output_type": "stream",
     "text": [
      "train1: (1381, 78)\n",
      "train2: (1381, 105)\n",
      "Index(['A10', 'A11', 'A12', 'A14', 'A15', 'A16', 'A17', 'A19', 'A20',\n",
      "       'A20range',\n",
      "       ...\n",
      "       'B14_to_B11_intTarget_0.0_mean', 'B14_to_B11_intTarget_1.0_mean',\n",
      "       'B14_to_B11_intTarget_2.0_mean', 'B14_to_B11_intTarget_3.0_mean',\n",
      "       'B14_to_B11_intTarget_4.0_mean', 'B14_to_B14_intTarget_0.0_mean',\n",
      "       'B14_to_B14_intTarget_1.0_mean', 'B14_to_B14_intTarget_2.0_mean',\n",
      "       'B14_to_B14_intTarget_3.0_mean', 'B14_to_B14_intTarget_4.0_mean'],\n",
      "      dtype='object', length=183) (1381, 183)\n",
      "Index(['A10', 'A11', 'A12', 'A14', 'A15', 'A16', 'A17', 'A19', 'A20',\n",
      "       'A20range',\n",
      "       ...\n",
      "       'B14_to_B11_intTarget_0.0_mean', 'B14_to_B11_intTarget_1.0_mean',\n",
      "       'B14_to_B11_intTarget_2.0_mean', 'B14_to_B11_intTarget_3.0_mean',\n",
      "       'B14_to_B11_intTarget_4.0_mean', 'B14_to_B14_intTarget_0.0_mean',\n",
      "       'B14_to_B14_intTarget_1.0_mean', 'B14_to_B14_intTarget_2.0_mean',\n",
      "       'B14_to_B14_intTarget_3.0_mean', 'B14_to_B14_intTarget_4.0_mean'],\n",
      "      dtype='object', length=183) (150, 183)\n"
     ]
    }
   ],
   "source": [
    "df_train=pd.read_csv(\"E:\\\\jinnan\\\\train_dispersion.csv\")\n",
    "df_train=df_train[df_train['yield_rate']>0.87]\n",
    "df_train.drop(['B3', 'B13', 'A13', 'A18', 'A23'], axis=1, inplace=True)\n",
    "for col in df_train.columns:\n",
    "    rate = df_train[col].value_counts(normalize=True, dropna=False).values[0]\n",
    "    if rate > 0.9:\n",
    "        df_train.drop(columns=[col], axis=1, inplace=True)\n",
    "binary_label_array=np.zeros(df_train.shape[0])\n",
    "binary_label_array[df_train[\"yield_rate\"]>0.93]=1\n",
    "label_array=df_train[\"yield_rate\"].values\n",
    "df_train[\"id\"]=df_train['id'].apply(lambda x: int(x[7:]))\n",
    "df_train.drop(columns=['yield_rate'],axis=1,inplace=True)\n",
    "print('train1:',df_train.shape)\n",
    "df_train2=pd.read_csv(\"E:\\\\jinnan\\\\train_binning_mean.csv\")\n",
    "print('train2:',df_train2.shape)\n",
    "df_train.index=range(df_train.shape[0])\n",
    "df_train2.index=range(df_train2.shape[0])\n",
    "df_train=pd.concat([df_train,df_train2],axis=1)\n",
    "train_array=df_train.values\n",
    "print(df_train.columns,df_train.shape)\n",
    "\n",
    "# df_test=pd.read_csv(\"E:\\\\jinnan\\\\test_after_clean.csv\")\n",
    "df_test=pd.read_csv(\"E:\\\\jinnan\\\\test_dispersion.csv\")\n",
    "df_test.drop(['B3', 'B13', 'A13', 'A18', 'A23'], axis=1, inplace=True)\n",
    "for col in df_test.columns:\n",
    "    rate = df_test[col].value_counts(normalize=True, dropna=False).values[0]\n",
    "    if rate > 0.9:\n",
    "        df_test.drop(columns=[col], axis=1, inplace=True)\n",
    "columns_list=list(df_test.columns)\n",
    "# columns_list.remove(\"id\")\n",
    "sample_id=df_test[\"id\"]\n",
    "df_test[\"id\"]=df_test['id'].apply(lambda x: int(x[7:]))\n",
    "\n",
    "df_test2=pd.read_csv(\"E:\\\\jinnan\\\\testA_binning_mean.csv\")\n",
    "df_test=pd.concat([df_test,df_test2],axis=1)\n",
    "test_array=df_test.values\n",
    "print(df_test.columns,df_test.shape)"
   ]
  },
  {
   "cell_type": "code",
   "execution_count": 87,
   "metadata": {},
   "outputs": [
    {
     "name": "stdout",
     "output_type": "stream",
     "text": [
      "(1381, 183) (1381,)\n"
     ]
    }
   ],
   "source": [
    "# (label_array.max()-label_array.min())/2+label_array.min()\n",
    "print(train_array.shape,binary_label_array.shape)"
   ]
  },
  {
   "cell_type": "code",
   "execution_count": 107,
   "metadata": {},
   "outputs": [
    {
     "name": "stdout",
     "output_type": "stream",
     "text": [
      "fold n°1\n",
      "[0]\ttrain-error:0.112319\tvalid_data-error:0.180505\n",
      "Multiple eval metrics have been passed: 'valid_data-error' will be used for early stopping.\n",
      "\n",
      "Will train until valid_data-error hasn't improved in 200 rounds.\n",
      "[100]\ttrain-error:0.080616\tvalid_data-error:0.115523\n",
      "[200]\ttrain-error:0.074275\tvalid_data-error:0.119134\n",
      "Stopping. Best iteration:\n",
      "[51]\ttrain-error:0.089674\tvalid_data-error:0.108303\n",
      "\n",
      "fold n°2\n",
      "[0]\ttrain-error:0.107692\tvalid_data-error:0.152174\n",
      "Multiple eval metrics have been passed: 'valid_data-error' will be used for early stopping.\n",
      "\n",
      "Will train until valid_data-error hasn't improved in 200 rounds.\n",
      "[100]\ttrain-error:0.081448\tvalid_data-error:0.108696\n",
      "[200]\ttrain-error:0.072398\tvalid_data-error:0.108696\n",
      "Stopping. Best iteration:\n",
      "[16]\ttrain-error:0.087783\tvalid_data-error:0.101449\n",
      "\n",
      "fold n°3\n",
      "[0]\ttrain-error:0.096833\tvalid_data-error:0.195652\n",
      "Multiple eval metrics have been passed: 'valid_data-error' will be used for early stopping.\n",
      "\n",
      "Will train until valid_data-error hasn't improved in 200 rounds.\n",
      "[100]\ttrain-error:0.085973\tvalid_data-error:0.17029\n",
      "[200]\ttrain-error:0.077828\tvalid_data-error:0.173913\n",
      "Stopping. Best iteration:\n",
      "[27]\ttrain-error:0.084163\tvalid_data-error:0.166667\n",
      "\n",
      "fold n°4\n",
      "[0]\ttrain-error:0.105882\tvalid_data-error:0.210145\n",
      "Multiple eval metrics have been passed: 'valid_data-error' will be used for early stopping.\n",
      "\n",
      "Will train until valid_data-error hasn't improved in 200 rounds.\n",
      "[100]\ttrain-error:0.071493\tvalid_data-error:0.137681\n",
      "[200]\ttrain-error:0.066968\tvalid_data-error:0.134058\n",
      "Stopping. Best iteration:\n",
      "[39]\ttrain-error:0.081448\tvalid_data-error:0.134058\n",
      "\n",
      "fold n°5\n",
      "[0]\ttrain-error:0.114932\tvalid_data-error:0.17029\n",
      "Multiple eval metrics have been passed: 'valid_data-error' will be used for early stopping.\n",
      "\n",
      "Will train until valid_data-error hasn't improved in 200 rounds.\n",
      "[100]\ttrain-error:0.070588\tvalid_data-error:0.119565\n",
      "[200]\ttrain-error:0.060633\tvalid_data-error:0.123188\n",
      "Stopping. Best iteration:\n",
      "[21]\ttrain-error:0.074208\tvalid_data-error:0.115942\n",
      "\n"
     ]
    }
   ],
   "source": [
    "xgb_params = {'eta': 0.005, 'max_depth': 10, 'subsample': 0.8, 'colsample_bytree': 0.8,\n",
    "          'objective': 'binary:logistic', 'eval_metric': 'error', 'silent': True, 'nthread': 4}\n",
    "folds = KFold(n_splits=5, shuffle=True, random_state=2018)\n",
    "oof_xgb = np.zeros(len(df_train))\n",
    "predictions_xgb = np.zeros(len(df_test))\n",
    "for fold_, (trn_idx, val_idx) in enumerate(folds.split(train_array, binary_label_array)):\n",
    "    print(\"fold n°{}\".format(fold_ + 1))\n",
    "    trn_data = xgb.DMatrix(train_array[trn_idx], binary_label_array[trn_idx])\n",
    "    val_data = xgb.DMatrix(train_array[val_idx], binary_label_array[val_idx])\n",
    "\n",
    "    watchlist = [(trn_data, 'train'), (val_data, 'valid_data')]\n",
    "    clf = xgb.train(dtrain=trn_data, num_boost_round=20000, evals=watchlist, early_stopping_rounds=200,\n",
    "                    verbose_eval=100, params=xgb_params)\n",
    "    oof_xgb[val_idx] = clf.predict(xgb.DMatrix(train_array[val_idx]), ntree_limit=clf.best_ntree_limit)\n",
    "    predictions_xgb += clf.predict(xgb.DMatrix(test_array), ntree_limit=clf.best_ntree_limit) / folds.n_splits\n",
    "    \n",
    "# print(\"CV score: {:<8.8f}\".format(mean_squared_error(oof_xgb, label_array)))"
   ]
  },
  {
   "cell_type": "code",
   "execution_count": 57,
   "metadata": {},
   "outputs": [],
   "source": [
    "import matplotlib.pyplot as plt\n",
    "from sklearn.metrics import confusion_matrix,accuracy_score\n",
    "\n",
    "def plt_plot(y_real):\n",
    "    fig = plt.figure()\n",
    "    ax = fig.add_subplot(1, 1, 1)\n",
    "    ax.plot(range(len(y_real)),y_real, color='b')\n",
    "    plt.show()\n",
    "def plt_plot_2(y_real,y_predicted):\n",
    "    fig = plt.figure(figsize=(16,12))\n",
    "    ax = fig.add_subplot(1, 1, 1)\n",
    "    ax.bar(range(len(y_real)),y_real, color='r',)\n",
    "    ax.plot(range(len(y_predicted)),y_predicted, color='b')\n",
    "    plt.ylim(0.85,1.01)\n",
    "    plt.show()"
   ]
  },
  {
   "cell_type": "code",
   "execution_count": 108,
   "metadata": {},
   "outputs": [
    {
     "name": "stdout",
     "output_type": "stream",
     "text": [
      "476.0\n",
      "511.0\n",
      "0.8747284576393918\n",
      "[[801  69]\n",
      " [104 407]]\n"
     ]
    }
   ],
   "source": [
    "train_result=np.zeros(oof_xgb.shape[0])\n",
    "train_result[oof_xgb>=0.5]=1\n",
    "train_result[oof_xgb<0.5]=0\n",
    "# for temp in oof_xgb:\n",
    "#     print(temp)\n",
    "print(np.sum(train_result))\n",
    "print(np.sum(binary_label_array))\n",
    "print(accuracy_score(binary_label_array, train_result, normalize=True, sample_weight=None))\n",
    "print(confusion_matrix(binary_label_array, train_result, labels=None, sample_weight=None))"
   ]
  },
  {
   "cell_type": "code",
   "execution_count": 44,
   "metadata": {
    "collapsed": true
   },
   "outputs": [
    {
     "data": {
      "image/png": "[encoded data removed]",
      "text/plain": [
       "<Figure size 1152x864 with 1 Axes>"
      ]
     },
     "metadata": {},
     "output_type": "display_data"
    }
   ],
   "source": [
    "plt_plot_2(binary_label_array[0:200],oof_xgb[0:200])\n",
    "# plt_plot_2(binary_label_array[200:400],oof_xgb[200:400])\n",
    "# plt_plot_2(binary_label_array[400:600],oof_xgb[400:600])\n",
    "# plt_plot_2(binary_label_array[600:800],oof_xgb[600:800])\n",
    "# plt_plot_2(binary_label_array[800:1000],oof_xgb[800:1000])\n",
    "# plt_plot_2(binary_label_array[1000:1200],oof_xgb[1000:1200])\n",
    "# plt_plot_2(binary_label_array[1200:],oof_xgb[1200:])"
   ]
  },
  {
   "cell_type": "code",
   "execution_count": 109,
   "metadata": {},
   "outputs": [],
   "source": [
    "predicted_result=np.zeros(predictions_xgb.shape[0])\n",
    "predicted_result[predictions_xgb>=0.5]=1\n",
    "df_binary_predi=pd.DataFrame(predicted_result,columns=['bin'])\n",
    "df_binary_predi.to_csv(\"E:\\\\jinnan\\\\binary.csv\",index=False)"
   ]
  },
  {
   "cell_type": "code",
   "execution_count": null,
   "metadata": {},
   "outputs": [],
   "source": []
  }
 ],
 "metadata": {
  "kernelspec": {
   "display_name": "Python 3",
   "language": "python",
   "name": "python3"
  },
  "language_info": {
   "codemirror_mode": {
    "name": "ipython",
    "version": 3
   },
   "file_extension": ".py",
   "mimetype": "text/x-python",
   "name": "python",
   "nbconvert_exporter": "python",
   "pygments_lexer": "ipython3",
   "version": "3.6.5"
  }
 },
 "nbformat": 4,
 "nbformat_minor": 2
}
